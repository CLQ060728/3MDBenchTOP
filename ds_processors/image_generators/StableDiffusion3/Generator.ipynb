{
 "cells": [
  {
   "cell_type": "code",
   "execution_count": 1,
   "id": "84b23735-1d2a-45e3-ae86-8a39a1475cda",
   "metadata": {},
   "outputs": [],
   "source": [
    "prompt_clip = \"A serene urban scene features a green clock on a pole, surrounded by a brick sidewalk, trees, and parked bicycles. Two men converse on the sidewalk, wearing various attire, including red shirts, grey hoodies, and sneakers. Cars and a white truck are parked along the street, with a parking meter on the curb.\"\n",
    "\n",
    "prompt_t5 = \"The scene depicts a vibrant and bustling urban setting, with a tall, green clock standing prominently on the sidewalk. The clock is surrounded by a variety of people, including two men conversing on the sidewalk, one wearing a red shirt and the other a grey hoodie. The men are standing on a brick-paved sidewalk, lined with trees that have sparse foliage. In the background, a white truck is parked on the curb, with bicycles chained to a pole nearby. A parking meter stands on the sidewalk, with a yellow top and a few coins inserted. To the left of the clock, a white work truck is parked, with a red vehicle parked behind it. A brick building with a white canopy stands nearby, with a black sign above the entrance. The building's exterior is made of white bricks, with a few windows and a door. A tall, metal light post stands nearby, casting a warm glow over the scene. The atmosphere is lively, with the sound of people chatting and the hum of traffic in the background. The sun is shining brightly, casting long shadows across the sidewalk and buildings. The overall impression is one of a thriving urban community, with a mix of old and new architecture and a sense of energy and activity.\"\n"
   ]
  },
  {
   "cell_type": "code",
   "execution_count": null,
   "id": "0eaed46a-164d-48fa-8af2-21121eac40e8",
   "metadata": {},
   "outputs": [],
   "source": [
    "import torch\n",
    "from diffusers import StableDiffusion3Pipeline\n",
    "import os\n",
    "\n",
    "parent_path = os.getcwd()\n",
    "cache_dir=os.path.join(parent_path, \"cache\")\n",
    "\n",
    "os.environ[\"TOKENIZERS_PARALLELISM\"] = \"True\"\n",
    "torch.set_float32_matmul_precision(\"high\")\n",
    "torch._inductor.config.conv_1x1_as_mm = True\n",
    "torch._inductor.config.coordinate_descent_tuning = True\n",
    "torch._inductor.config.epilogue_fusion = False\n",
    "torch._inductor.config.coordinate_descent_check_all_directions = True\n",
    "\n",
    "device = torch.device('cuda' if torch.cuda.is_available() else 'cpu')\n",
    "# single checkpoint for the StableDiffusion3Pipeline\n",
    "# repo_id = \"https://huggingface.co/stabilityai/stable-diffusion-3-medium/blob/main/sd3_medium_incl_clips.safetensors\" \n",
    "repo_id = \"stabilityai/stable-diffusion-3-medium-diffusers\"\n",
    "pipe = StableDiffusion3Pipeline.from_pretrained(\n",
    "        repo_id,\n",
    "        torch_dtype=torch.float16,\n",
    "        cache_dir=cache_dir,\n",
    "        use_safetensors=True).to(device)\n",
    "# pipe.enable_model_cpu_offload()\n",
    "pipe.set_progress_bar_config(disable=True)\n",
    "\n",
    "pipe.transformer.to(memory_format=torch.channels_last)\n",
    "pipe.vae.to(memory_format=torch.channels_last)\n",
    "\n",
    "pipe.transformer = torch.compile(pipe.transformer, mode=\"max-autotune\", fullgraph=True)\n",
    "pipe.vae.decode = torch.compile(pipe.vae.decode, mode=\"max-autotune\", fullgraph=True)\n"
   ]
  },
  {
   "cell_type": "code",
   "execution_count": null,
   "id": "c5c06932-cf13-4dd5-b5cb-936d0eda4d95",
   "metadata": {},
   "outputs": [],
   "source": [
    "# Warm Up 1st time\n",
    "prompt = \"a photo of a cat holding a sign that says hello world\"\n",
    "for _ in range(3):\n",
    "    _ = pipe(prompt=prompt)"
   ]
  },
  {
   "cell_type": "code",
   "execution_count": null,
   "id": "0b54c63a-30ab-4412-8ea3-f67658a3d17b",
   "metadata": {},
   "outputs": [],
   "source": [
    "# Run Inference     prompt_3=prompt_t5,   \n",
    "# generator = torch.Generator(device=\"cpu\").manual_seed(8)\n",
    "# neg_prompt = compel(\"\")\n",
    "# [prompt_embeddings, neg_prompt] = compel.pad_conditioning_tensors_to_same_length([prompt_t5, neg_prompt])\n",
    "\n",
    "image = pipe(\n",
    "    prompt=prompt_clip,\n",
    "    prompt_3=prompt_t5,\n",
    "    num_inference_steps=28,\n",
    "    height=512,\n",
    "    width=512,\n",
    "    guidance_scale=8.0,\n",
    "    max_sequence_length=512\n",
    ").images[0]\n",
    "\n",
    "image"
   ]
  },
  {
   "cell_type": "code",
   "execution_count": null,
   "id": "7688a547-4603-4d53-b89f-2406da8c6814",
   "metadata": {},
   "outputs": [],
   "source": [
    "import Generator as gen\n",
    "import torch\n",
    "import os\n",
    "\n",
    "parent_path = os.getcwd()\n",
    "cache_dir=os.path.join(parent_path, \"cache\")\n",
    "print(cache_dir)\n",
    "device = torch.device('cuda' if torch.cuda.is_available() else 'cpu')\n",
    "repo_id = \"stabilityai/stable-diffusion-3-medium-diffusers\"\n",
    "num_inference_steps = 28\n",
    "img_width = 512\n",
    "img_height = 512\n",
    "prompts = [prompt_clip, prompt_clip, prompt_clip, prompt_clip, prompt_clip]\n",
    "prompts_3 = [prompt_t5, prompt_t5, prompt_t5, prompt_t5, prompt_t5]\n",
    "pipe = gen.get_sd3_pipeline(repo_id, cache_dir, device, torch_compile=False)\n",
    "images = gen.run_sd3_t2i(pipe, num_inference_steps, img_width, img_height, prompts, prompts_3, manual_seed=False, seed=None)"
   ]
  },
  {
   "cell_type": "code",
   "execution_count": null,
   "id": "923fd772-3f17-419b-bfd8-e5c8362b45c2",
   "metadata": {},
   "outputs": [],
   "source": [
    "images[3]"
   ]
  },
  {
   "cell_type": "code",
   "execution_count": null,
   "id": "08ef7ffb-8e70-49f7-9d97-d9b1056bb576",
   "metadata": {},
   "outputs": [],
   "source": []
  }
 ],
 "metadata": {
  "kernelspec": {
   "display_name": "Python 3 (ipykernel)",
   "language": "python",
   "name": "python3"
  },
  "language_info": {
   "codemirror_mode": {
    "name": "ipython",
    "version": 3
   },
   "file_extension": ".py",
   "mimetype": "text/x-python",
   "name": "python",
   "nbconvert_exporter": "python",
   "pygments_lexer": "ipython3",
   "version": "3.11.7"
  }
 },
 "nbformat": 4,
 "nbformat_minor": 5
}
