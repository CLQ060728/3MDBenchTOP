{
 "cells": [
  {
   "cell_type": "code",
   "execution_count": 1,
   "id": "e67586ad-b416-4dea-9de5-6f05b4acad9b",
   "metadata": {},
   "outputs": [],
   "source": [
    "prompt = \"A green clock stands tall on a brick sidewalk, surrounded by parked bicycles and a white truck. Two men converse on the sidewalk, one wearing a red shirt and the other a grey hoodie. Trees with sparse foliage line the street, and a white brick building looms in the background.\""
   ]
  },
  {
   "cell_type": "code",
   "execution_count": null,
   "id": "21546191-4d76-4f3a-b924-394a1e9dac3e",
   "metadata": {},
   "outputs": [],
   "source": [
    "from diffusers import DiffusionPipeline\n",
    "from diffusers.utils import pt_to_pil, make_image_grid\n",
    "import torch\n",
    "import os\n",
    "\n",
    "parent_path = os.getcwd()\n",
    "cache_dir=os.path.join(parent_path, \"cache\")\n",
    "\n",
    "# stage 1\n",
    "stage_1 = DiffusionPipeline.from_pretrained(\"DeepFloyd/IF-I-XL-v1.0\", variant=\"fp16\", torch_dtype=torch.float16,\n",
    "                                            cache_dir=cache_dir, use_safetensors=True)\n",
    "stage_1.enable_model_cpu_offload()\n",
    "\n",
    "# stage 2\n",
    "stage_2 = DiffusionPipeline.from_pretrained(\"DeepFloyd/IF-II-L-v1.0\", text_encoder=None, variant=\"fp16\",\n",
    "                                            torch_dtype=torch.float16, cache_dir=cache_dir, use_safetensors=True)\n",
    "stage_2.enable_model_cpu_offload()\n",
    "\n",
    "# stage 3\n",
    "safety_modules = {\n",
    "    \"feature_extractor\": stage_1.feature_extractor,\n",
    "    \"safety_checker\": stage_1.safety_checker,\n",
    "    \"watermarker\": stage_1.watermarker,\n",
    "}\n",
    "stage_3 = DiffusionPipeline.from_pretrained(\n",
    "    \"stabilityai/stable-diffusion-x4-upscaler\", **safety_modules, torch_dtype=torch.float16,\n",
    "    cache_dir=cache_dir, use_safetensors=True\n",
    ")\n",
    "stage_3.enable_model_cpu_offload()\n"
   ]
  },
  {
   "cell_type": "code",
   "execution_count": null,
   "id": "c29ede55-c406-47af-bb4b-8a6ebed8385b",
   "metadata": {},
   "outputs": [],
   "source": [
    "# prompt = 'a photo of a kangaroo wearing an orange hoodie and blue sunglasses standing in front of the eiffel tower holding a sign that says \"very deep learning\"'\n",
    "# generator = torch.manual_seed(1) generator=generator,\n",
    "\n",
    "# text embeds\n",
    "prompt_embeds, negative_embeds = stage_1.encode_prompt(prompt)\n",
    "\n",
    "# stage 1\n",
    "stage_1_output = stage_1(\n",
    "    prompt_embeds=prompt_embeds, negative_prompt_embeds=negative_embeds, output_type=\"pt\"\n",
    ").images\n",
    "#pt_to_pil(stage_1_output)[0].save(\"./if_stage_I.png\")\n",
    "\n",
    "# stage 2\n",
    "stage_2_output = stage_2(\n",
    "    image=stage_1_output,\n",
    "    prompt_embeds=prompt_embeds,\n",
    "    negative_prompt_embeds=negative_embeds,\n",
    "    output_type=\"pt\",\n",
    ").images\n",
    "#pt_to_pil(stage_2_output)[0].save(\"./if_stage_II.png\")\n",
    "\n",
    "# stage 3\n",
    "stage_3_output = stage_3(prompt=prompt, image=stage_2_output, noise_level=100).images\n",
    "#stage_3_output[0].save(\"./if_stage_III.png\")\n",
    "images = make_image_grid([pt_to_pil(stage_1_output)[0], pt_to_pil(stage_2_output)[0], stage_3_output[0]], rows=1, cols=3, resize=1024)"
   ]
  },
  {
   "cell_type": "code",
   "execution_count": null,
   "id": "eb4d5de1-4cba-465c-bbe8-5455865c3d83",
   "metadata": {},
   "outputs": [],
   "source": [
    "pt_to_pil(stage_2_output)[0]"
   ]
  },
  {
   "cell_type": "code",
   "execution_count": null,
   "id": "3fd19251-e076-42e4-89ce-ab5dd9e228b2",
   "metadata": {},
   "outputs": [],
   "source": [
    "images"
   ]
  },
  {
   "cell_type": "code",
   "execution_count": null,
   "id": "018805bb-3bdc-473b-a493-78d0fd88e41b",
   "metadata": {},
   "outputs": [],
   "source": [
    "import generator as gen\n",
    "import os\n",
    "\n",
    "parent_path = os.getcwd()\n",
    "cache_dir=os.path.join(parent_path, \"cache\")\n",
    "print(cache_dir)\n",
    "repo_ids = [\"DeepFloyd/IF-I-XL-v1.0\", \"DeepFloyd/IF-II-L-v1.0\", \"stabilityai/stable-diffusion-x4-upscaler\"]\n",
    "gpu_id = 0\n",
    "stage1, stage2, stage3 = gen.get_deepfloydif_pipeline(repo_ids, cache_dir, gpu_id)"
   ]
  },
  {
   "cell_type": "code",
   "execution_count": null,
   "id": "d104d7e6-e8b4-467d-8d87-5dfd2b9b13f8",
   "metadata": {},
   "outputs": [],
   "source": [
    "prompts = [prompt, prompt]\n",
    "images = gen.run_deepfloydif_t2i(stage1, stage2, stage3, prompts, manual_seed=True, seed=8)"
   ]
  },
  {
   "cell_type": "code",
   "execution_count": 5,
   "id": "12de28e9-3dd6-4fb0-b1f1-cc7fc29b354e",
   "metadata": {},
   "outputs": [
    {
     "data": {
      "text/plain": [
       "[[<PIL.Image.Image image mode=RGB size=256x256>,\n",
       "  <PIL.Image.Image image mode=RGB size=1024x1024>],\n",
       " [<PIL.Image.Image image mode=RGB size=256x256>,\n",
       "  <PIL.Image.Image image mode=RGB size=1024x1024>]]"
      ]
     },
     "execution_count": 5,
     "metadata": {},
     "output_type": "execute_result"
    }
   ],
   "source": [
    "images"
   ]
  },
  {
   "cell_type": "code",
   "execution_count": null,
   "id": "146ee853-fb5d-4f5c-85b5-64f2e5150a9c",
   "metadata": {},
   "outputs": [],
   "source": []
  }
 ],
 "metadata": {
  "kernelspec": {
   "display_name": "Python 3 (ipykernel)",
   "language": "python",
   "name": "python3"
  },
  "language_info": {
   "codemirror_mode": {
    "name": "ipython",
    "version": 3
   },
   "file_extension": ".py",
   "mimetype": "text/x-python",
   "name": "python",
   "nbconvert_exporter": "python",
   "pygments_lexer": "ipython3",
   "version": "3.11.7"
  }
 },
 "nbformat": 4,
 "nbformat_minor": 5
}
