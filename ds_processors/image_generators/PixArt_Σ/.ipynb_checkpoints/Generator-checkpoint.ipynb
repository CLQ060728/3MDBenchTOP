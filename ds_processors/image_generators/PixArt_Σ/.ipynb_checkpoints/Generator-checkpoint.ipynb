{
 "cells": [
  {
   "cell_type": "code",
   "execution_count": 1,
   "id": "4e44d586-0aec-4517-ba3e-e11c54c4560e",
   "metadata": {},
   "outputs": [],
   "source": [
    "# prompt = \"In this serene bathroom, a pristine white bathtub takes center stage, positioned directly \"\\\n",
    "# \"beneath a mirror that stretches across the wall. The room is clad in gleaming white tiles, which reflect the soft light and \"\\\n",
    "# \"create a sense of calm. A glass shower door adorns the bathtub, adding a touch of modernity to the space. A few plush towels \"\\\n",
    "# \"are carefully laid out nearby, with one draped casually over the side of the tub, ready for use. To complete the tranquil \"\\\n",
    "# \"atmosphere, a mirror stands adjacent to the tub, its reflective surface bouncing light and creating the illusion of a more \"\\\n",
    "# \"spacious area.\"\n",
    "prompt = \"A vibrant and bustling urban setting, with a tall, green clock standing prominently on the sidewalk. The clock is surrounded by a variety of people, including two men conversing on the sidewalk, one wearing a red shirt and the other a grey hoodie. The men are standing on a brick-paved sidewalk, lined with trees that have sparse foliage. In the background, a white truck is parked on the curb, with bicycles chained to a pole nearby. A parking meter stands on the sidewalk, with a yellow top and a few coins inserted. To the left of the clock, a white work truck is parked, with a red vehicle parked behind it. A brick building with a white canopy stands nearby, with a black sign above the entrance. The building's exterior is made of white bricks, with a few windows and a door. A tall, metal light post stands nearby, casting a warm glow over the scene. The atmosphere is lively, with the sound of people chatting and the hum of traffic in the background. The sun is shining brightly, casting long shadows across the sidewalk and buildings. The overall impression is one of a thriving urban community, with a mix of old and new architecture and a sense of energy and activity.\""
   ]
  },
  {
   "cell_type": "code",
   "execution_count": null,
   "id": "fa730b67-c523-4807-affc-1c2922bc594d",
   "metadata": {},
   "outputs": [],
   "source": [
    "import torch\n",
    "from diffusers import PixArtSigmaPipeline\n",
    "from transformers import T5Tokenizer\n",
    "import os\n",
    "\n",
    "parent_path = os.getcwd()\n",
    "cache_dir=os.path.join(parent_path, \"cache\")\n",
    "\n",
    "torch.set_float32_matmul_precision(\"high\")\n",
    "torch._inductor.config.conv_1x1_as_mm = True\n",
    "torch._inductor.config.coordinate_descent_tuning = True\n",
    "torch._inductor.config.epilogue_fusion = False\n",
    "torch._inductor.config.coordinate_descent_check_all_directions = True\n",
    "device = torch.device('cuda' if torch.cuda.is_available() else 'cpu')\n",
    "\n",
    "# You can replace the checkpoint id with \"PixArt-alpha/PixArt-Sigma-XL-2-512-MS\" too.\n",
    "tokenizer = T5Tokenizer.from_pretrained(\"google-t5/t5-11b\", legacy=False)\n",
    "repo_id = \"PixArt-alpha/PixArt-Sigma-XL-2-1024-MS\"\n",
    "pipe = PixArtSigmaPipeline.from_pretrained(\n",
    "       repo_id, tokenizer=tokenizer,\n",
    "       torch_dtype=torch.float16, \n",
    "       cache_dir=cache_dir, \n",
    "       use_safetensors=True\n",
    "       ).to(device)\n",
    "# Enable memory optimizations.\n",
    "# pipe.enable_model_cpu_offload()\n",
    "\n",
    "pipe.set_progress_bar_config(disable=True)\n",
    "\n",
    "pipe.transformer.to(memory_format=torch.channels_last)\n",
    "pipe.vae.to(memory_format=torch.channels_last)\n",
    "\n",
    "pipe.transformer = torch.compile(pipe.transformer, mode=\"max-autotune\", fullgraph=True)\n",
    "pipe.vae.decode = torch.compile(pipe.vae.decode, mode=\"max-autotune\", fullgraph=True)\n",
    "\n",
    "# beautifulsoup4 and ftfy packages"
   ]
  },
  {
   "cell_type": "code",
   "execution_count": 5,
   "id": "d678fac8-cb35-4672-b254-19506e50a9d7",
   "metadata": {},
   "outputs": [],
   "source": [
    "# prompt = \"A small cactus with a happy face in the Sahara desert.\"   max_sequence_length = 300 default\n",
    "img_width = 512\n",
    "img_height = 512 \n",
    "image = pipe(prompt,\n",
    "             num_inference_steps=30,\n",
    "             guidance_scale=8.0, width=img_width, height=img_height\n",
    "            ).images[0]"
   ]
  },
  {
   "cell_type": "code",
   "execution_count": null,
   "id": "3d296afe-b799-4ed8-971d-8636ddd0bd98",
   "metadata": {},
   "outputs": [],
   "source": [
    "import Generator as gen\n",
    "import torch\n",
    "import os\n",
    "\n",
    "parent_path = os.getcwd()\n",
    "cache_dir=os.path.join(parent_path, \"cache\")\n",
    "print(cache_dir)\n",
    "repo_id = \"PixArt-alpha/PixArt-Sigma-XL-2-1024-MS\"\n",
    "device = torch.device('cuda' if torch.cuda.is_available() else 'cpu')\n",
    "\n",
    "pipe = gen.get_pixart_sigma_pipeline(repo_id, cache_dir, device, torch_compile=False)"
   ]
  },
  {
   "cell_type": "code",
   "execution_count": 3,
   "id": "282b24bd-ffbb-4455-b1aa-70543359a741",
   "metadata": {},
   "outputs": [],
   "source": [
    "num_inference_steps = 30\n",
    "img_width = 512\n",
    "img_height = 512\n",
    "prompts = [prompt, prompt]\n",
    "images = gen.run_pixart_sigma_t2i(pipe, num_inference_steps, img_width, img_height, prompts, manual_seed=False, seed=None)"
   ]
  },
  {
   "cell_type": "code",
   "execution_count": null,
   "id": "91ec7489-32ec-4c6d-ad7a-7b86b0f8e989",
   "metadata": {},
   "outputs": [],
   "source": [
    "images[1]"
   ]
  },
  {
   "cell_type": "code",
   "execution_count": null,
   "id": "49da2548-028d-4cf5-b1d0-b18919ab203d",
   "metadata": {},
   "outputs": [],
   "source": []
  }
 ],
 "metadata": {
  "kernelspec": {
   "display_name": "Python 3 (ipykernel)",
   "language": "python",
   "name": "python3"
  },
  "language_info": {
   "codemirror_mode": {
    "name": "ipython",
    "version": 3
   },
   "file_extension": ".py",
   "mimetype": "text/x-python",
   "name": "python",
   "nbconvert_exporter": "python",
   "pygments_lexer": "ipython3",
   "version": "3.11.7"
  }
 },
 "nbformat": 4,
 "nbformat_minor": 5
}
