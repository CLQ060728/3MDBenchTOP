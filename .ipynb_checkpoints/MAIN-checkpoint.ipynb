{
 "cells": [
  {
   "cell_type": "code",
   "execution_count": 1,
   "id": "eb9760ec-fd68-4df2-9235-e0941904ea67",
   "metadata": {},
   "outputs": [],
   "source": [
    "import sys\n",
    "import os\n",
    "\n",
    "cur_dir = os.getcwd()\n",
    "profiler_dir = os.path.join(cur_dir, \"ds_profiling\")\n",
    "sys.path.insert(0, profiler_dir)\n",
    "ds_path_root = \"/home/jovyan/3MDBench/data/IMAGEs/generated/Kandinsky3/MSCOCO/raw_prompt/\"\n",
    "real_path = os.path.join(ds_path_root, \"REAL\")\n",
    "fake_path = os.path.join(ds_path_root, \"LPIPS\")\n",
    "diff_name = \"KANDINSKY3\"\n",
    "model_name = \"coco_kandinsky3\""
   ]
  },
  {
   "cell_type": "code",
   "execution_count": 5,
   "id": "cd0cb94c-132b-41fa-ae47-d454f92dc5c3",
   "metadata": {},
   "outputs": [],
   "source": [
    "### compute DCT spectrum for real and fake datasets\n",
    "\n",
    "import avg_dct_spectrum as ads\n",
    "import os\n",
    "\n",
    "amount = 1000\n",
    "size = (512, 512)\n",
    "ds_paths = [f\"{real_path},REAL\", f\"{fake_path}, FAKE\"]\n",
    "colour_or_gray = False\n",
    "ds_name = \"ms-coco\"\n",
    "\n",
    "output_path = os.path.join(cur_dir, \"statistics\", \"DCT\")\n",
    "os.makedirs(output_path, exist_ok = True)\n",
    "ads.compute_dct(amount, size, ds_paths, colour_or_gray, ds_name, diff_name, output_path)"
   ]
  },
  {
   "cell_type": "code",
   "execution_count": 2,
   "id": "5aabc239-f023-4b3f-883f-4efab7850178",
   "metadata": {},
   "outputs": [
    {
     "name": "stdout",
     "output_type": "stream",
     "text": [
      "img_files length: 10\n",
      "num_tasks: 1; img_files length: 10; task_amount: 10\n",
      "img_files length: 10\n",
      "num_tasks: 1; img_files length: 10; task_amount: 10\n"
     ]
    }
   ],
   "source": [
    "### compute DFT power spectrum for real and fake datasets\n",
    "\n",
    "import avg_dft_power_spectrum as adps\n",
    "import os\n",
    "\n",
    "resize_width = 512\n",
    "resize_height = 512\n",
    "resize_tuple = (resize_width, resize_height)\n",
    "images_real = adps.load_images(real_path, 10, resize_tuple)\n",
    "images_fake = adps.load_images(fake_path, 10, resize_tuple)"
   ]
  },
  {
   "cell_type": "code",
   "execution_count": null,
   "id": "215fb042-6842-4e09-9d4c-cbb46fac596f",
   "metadata": {},
   "outputs": [],
   "source": [
    "### compute DFT power spectrum for real and fake datasets   \n",
    "\n",
    "import importlib\n",
    "importlib.reload(adps)\n",
    "import os\n",
    "\n",
    "fig_size = (20, 4) # (20, 15) # 3 rows # (20, 10) # 2 rows # (20, 4) # -- 1-4 plot  num_rows at least x 5\n",
    "rgb_gray = False\n",
    "output_path = os.path.join(cur_dir, \"statistics\", \"DFT_Power\", model_name)\n",
    "os.makedirs(output_path, exist_ok = True)\n",
    "adps.visualize_average_frequency_power_spectra([images_real, images_fake], [\"LSUN REAL\", f\"LSUN {diff_name}\"], \n",
    "                                               rgb_or_g=rgb_gray, out_path=output_path)\n",
    "adps.visualise_average_images_psd([images_real, images_fake], [\"LSUN REAL\", f\"LSUN {diff_name}\"], fig_size, \n",
    "                                  rgb_or_g=rgb_gray, out_path=output_path)"
   ]
  },
  {
   "cell_type": "code",
   "execution_count": null,
   "id": "857a6dd4-f300-444c-b9c6-2d993ec4cd53",
   "metadata": {},
   "outputs": [],
   "source": [
    "# compute DFT spectrum for real and fake datasets\n",
    "import importlib\n",
    "import avg_dft_spectrum as ads\n",
    "importlib.reload(ads)\n",
    "\n",
    "rgb_gray = True\n",
    "full_band = True\n",
    "resize_width = 512\n",
    "resize_height = 512\n",
    "resize_tuple = (resize_width, resize_height)\n",
    "output_path = os.path.join(cur_dir, \"statistics\", \"DFT\", model_name)\n",
    "os.makedirs(output_path, exist_ok = True)\n",
    "# images_real1 = ads.load_images(real_path, 100, resize_tuple)\n",
    "# images_fake1 = ads.load_images(fake_path, 100, resize_tuple)\n",
    "ads.visualize_average_frequency_spectra(images_real, images_fake, \"Average DFT Spectrums\", \n",
    "                                        rgb_or_g=rgb_gray, full_band=full_band, out_path=output_path)"
   ]
  },
  {
   "cell_type": "code",
   "execution_count": null,
   "id": "e3bc706b-c555-4ee5-a4fa-85eeaca42b76",
   "metadata": {},
   "outputs": [],
   "source": [
    "# Compute GLCM textures\n",
    "\n",
    "import importlib\n",
    "import img_ds_statistics_cooccurrence as idsc\n",
    "importlib.reload(idsc)\n",
    "import os\n",
    "\n",
    "input_path = real_path\n",
    "real_or_fake = \"real\"\n",
    "output_path = os.path.join(cur_dir, \"statistics\", \"GLCM\", model_name, real_or_fake)\n",
    "os.makedirs(output_path, exist_ok = True)\n",
    "rgb_or_g = True\n",
    "task_amount = 100\n",
    "idsc.compute_glcm_textures(input_path, rgb_or_g, task_amount, output_path=output_path)"
   ]
  },
  {
   "cell_type": "code",
   "execution_count": 5,
   "id": "32e32416-fe36-43ed-93ea-71fdf029d3c9",
   "metadata": {},
   "outputs": [
    {
     "name": "stdout",
     "output_type": "stream",
     "text": [
      "img_paths length: 10\n",
      "num_tasks: 5; img_paths length: 10; task_amount: 2\n",
      "img_paths length: 10\n",
      "num_tasks: 5; img_paths length: 10; task_amount: 2\n"
     ]
    }
   ],
   "source": [
    "# Compute texture descriptors LBP, CoALBP, LPQ\n",
    "import importlib\n",
    "import img_ds_texture_descriptors as idtd\n",
    "importlib.reload(idtd)\n",
    "\n",
    "task_amount = 2\n",
    "\n",
    "real_descriptors_dict = idtd.get_ds_channels_descriptors(real_path, task_amount)\n",
    "fake_descriptors_dict = idtd.get_ds_channels_descriptors(fake_path, task_amount)"
   ]
  },
  {
   "cell_type": "code",
   "execution_count": null,
   "id": "9d31f66d-887a-4959-abeb-326ccb2e51b6",
   "metadata": {},
   "outputs": [],
   "source": [
    "# descriptor_names: LBP, CoALBPs, LPQ\n",
    "# channels: Y, Cr, Cb, H, S, V\n",
    "\n",
    "import os \n",
    "\n",
    "descriptor_name = \"LPQ\"\n",
    "real_generator_name = \"MSCOCO_REAL\"\n",
    "fake_generator_name = \"MSCOCO_KANDINSKY3\"\n",
    "channel = \"V\"\n",
    "descr_dict_key = f\"{channel}_{descriptor_name}\"\n",
    "output_path = os.path.join(cur_dir, \"statistics\", \"DESCRIPTORs\")\n",
    "os.makedirs(output_path, exist_ok = True)\n",
    "\n",
    "idtd.histogram_full_image_comparison(real_descriptors_dict[descr_dict_key], \n",
    "                                     fake_descriptors_dict[descr_dict_key], \n",
    "                                     descriptor_name, real_generator_name, fake_generator_name, \n",
    "                                     channel, output_path)"
   ]
  },
  {
   "cell_type": "code",
   "execution_count": null,
   "id": "0d8318e1-d628-422c-ac98-fde2b6d6475a",
   "metadata": {},
   "outputs": [],
   "source": [
    "############################################################################################################################"
   ]
  },
  {
   "cell_type": "code",
   "execution_count": null,
   "id": "afc5038a-1fe1-4027-925f-eac6acb3fc66",
   "metadata": {},
   "outputs": [],
   "source": [
    "import cv2\n",
    "import matplotlib.pyplot as plt\n",
    "\n",
    "img_path = \"/home/jovyan/DFBench/data/IMAGEs/MSCOCO/selected/000000165862.jpg\"\n",
    "image = cv2.imread(img_path)\n",
    "image = cv2.cvtColor(image, cv2.COLOR_BGR2GRAY)\n",
    "image = cv2.resize(image, (512, 512), interpolation= cv2.INTER_LINEAR)\n",
    "blured_image = cv2.medianBlur(image, 25)\n",
    "print(f\"image shape: {image.shape}; blured_image shape: {blured_image.shape}\")\n",
    "plt.set_cmap(\"gray\")\n",
    "plt.imshow(image - blured_image)"
   ]
  },
  {
   "cell_type": "code",
   "execution_count": null,
   "id": "78bafdbf-b5a7-45c3-8e23-ed66c8e58612",
   "metadata": {},
   "outputs": [],
   "source": [
    "import img_ds_statistics_cooccurrence as idsco\n",
    "import numpy as np\n",
    "distances = [1,2,3,4,5]\n",
    "angles = [0, np.pi/4, np.pi/2, 3*np.pi/4]\n",
    "properties = [\"correlation\", \"homogeneity\", \"contrast\", \"ASM\"]\n",
    "glcm_props = idsco.calc_glcm_props_all_agls(image, properties, distances, angles)\n",
    "glcm_props.shape"
   ]
  },
  {
   "cell_type": "code",
   "execution_count": null,
   "id": "dbb99ff9-8c01-4648-ba9a-4c0bf4329855",
   "metadata": {},
   "outputs": [],
   "source": [
    "from psds import power_spectrum\n",
    "\n",
    "output_path = \"/home/jovyan/DFBench/\" \n",
    "power_spectrum(image=image, view=True, output_path=output_path)"
   ]
  },
  {
   "cell_type": "code",
   "execution_count": null,
   "id": "a6d12736-0b16-46cd-a8d9-91e9ebcd1e76",
   "metadata": {},
   "outputs": [],
   "source": [
    "import numpy as np\n",
    "\n",
    "dark_image_grey_fourier = np.fft.fftshift(np.fft.fft2(image))\n",
    "plt.imshow(np.log(abs(dark_image_grey_fourier)), cmap='gray')"
   ]
  },
  {
   "cell_type": "code",
   "execution_count": null,
   "id": "34872903-587f-4833-8b67-7b0d5d7f219e",
   "metadata": {},
   "outputs": [],
   "source": [
    "image_grey_fourier_power = np.abs(dark_image_grey_fourier)**2\n",
    "plt.imshow(np.log(image_grey_fourier_power), cmap=cm.coolwarm)"
   ]
  },
  {
   "cell_type": "code",
   "execution_count": null,
   "id": "e3434d0b-d53f-43b0-abbd-d3ba2efdb31f",
   "metadata": {},
   "outputs": [],
   "source": [
    "import cv2\n",
    "import img_ds_statistics_cooccurrence as idscc\n",
    "\n",
    "resize_width = 512\n",
    "resize_height = 512\n",
    "resize_tuple = (resize_width, resize_height)\n",
    "images_real1 = idscc.load_images(real_path, 200, resize_tuple)"
   ]
  },
  {
   "cell_type": "code",
   "execution_count": null,
   "id": "b55a528c-1e04-4f9f-9512-889bacd2fcab",
   "metadata": {},
   "outputs": [],
   "source": [
    "import numpy as np\n",
    "for image in images_real1:\n",
    "    hist = np.bincount(image[:,:,0].ravel(),minlength=256)\n",
    "    hist += hist"
   ]
  },
  {
   "cell_type": "code",
   "execution_count": null,
   "id": "e0a7b63c-4ee1-4fd0-bd0c-0d0f20e4346f",
   "metadata": {},
   "outputs": [],
   "source": [
    "import img_ds_texture_descriptors as idtd\n",
    "\n",
    "img_path_real = \"/home/jovyan/DFBench/data/IMAGEs/MSCOCO/selected/000000291788.jpg\"\n",
    "img_path_fake = \"/home/jovyan/DFBench/data/IMAGEs/MSCOCO/selected/000000291868.jpg\"\n",
    "\n",
    "channels_desc = idtd.get_channels_descriptors(img_path_fake)"
   ]
  },
  {
   "cell_type": "code",
   "execution_count": 30,
   "id": "f0ad5852-9398-434c-977f-f8f1a5e8691a",
   "metadata": {},
   "outputs": [
    {
     "data": {
      "text/plain": [
       "numpy.ndarray"
      ]
     },
     "execution_count": 30,
     "metadata": {},
     "output_type": "execute_result"
    }
   ],
   "source": [
    "type(channels_desc[\"V_LPQ\"])    # (2304,)   LPQ-(256,)   CoALBP1 1024"
   ]
  },
  {
   "cell_type": "code",
   "execution_count": null,
   "id": "1e4522ba-7a92-484b-9007-1b0ede4dbdec",
   "metadata": {},
   "outputs": [],
   "source": []
  }
 ],
 "metadata": {
  "kernelspec": {
   "display_name": "Python 3 (ipykernel)",
   "language": "python",
   "name": "python3"
  },
  "language_info": {
   "codemirror_mode": {
    "name": "ipython",
    "version": 3
   },
   "file_extension": ".py",
   "mimetype": "text/x-python",
   "name": "python",
   "nbconvert_exporter": "python",
   "pygments_lexer": "ipython3",
   "version": "3.11.7"
  }
 },
 "nbformat": 4,
 "nbformat_minor": 5
}
